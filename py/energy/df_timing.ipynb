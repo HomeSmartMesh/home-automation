{
 "cells": [
  {
   "cell_type": "code",
   "execution_count": 1,
   "id": "subsequent-stage",
   "metadata": {},
   "outputs": [
    {
     "name": "stdout",
     "output_type": "stream",
     "text": [
      "                                   energy  power\n",
      "2020-12-12 16:57:08.377898+00:00      NaN   0.67\n",
      "2020-12-12 16:57:08.397018+00:00    602.0    NaN\n",
      "2020-12-12 16:57:38.376521+00:00      NaN   0.63\n",
      "2020-12-12 16:57:38.386007+00:00    602.0    NaN\n",
      "2020-12-12 16:58:08.387967+00:00      NaN   0.63\n",
      "...                                   ...    ...\n",
      "2021-12-23 15:04:25.715355+00:00  29507.0    NaN\n",
      "2021-12-23 15:04:55.700106+00:00      NaN   0.63\n",
      "2021-12-23 15:04:55.712621+00:00  29507.0    NaN\n",
      "2021-12-23 15:05:25.709074+00:00      NaN   0.90\n",
      "2021-12-23 15:05:25.721522+00:00  29507.0    NaN\n",
      "\n",
      "[2925304 rows x 2 columns]\n"
     ]
    }
   ],
   "source": [
    "import pandas as pd\n",
    "df = pd.read_pickle(\"./data/shelly tv.pkl\")\n",
    "print(df)"
   ]
  },
  {
   "cell_type": "code",
   "execution_count": 9,
   "id": "4e6d4e15-e3d4-47b4-a080-325b2eb80ee1",
   "metadata": {},
   "outputs": [
    {
     "data": {
      "text/plain": [
       "energy     NaN\n",
       "power     0.67\n",
       "Name: 2020-12-12 16:57:08.377898+00:00, dtype: float64"
      ]
     },
     "execution_count": 9,
     "metadata": {},
     "output_type": "execute_result"
    }
   ],
   "source": [
    "df.iloc[0]"
   ]
  },
  {
   "cell_type": "code",
   "execution_count": 14,
   "id": "8caf2c56-7683-4dc7-9e5c-2bb5f0873b71",
   "metadata": {},
   "outputs": [
    {
     "data": {
      "text/plain": [
       "Timestamp('2020-12-12 16:57:08.377898+0000', tz='UTC')"
      ]
     },
     "execution_count": 14,
     "metadata": {},
     "output_type": "execute_result"
    }
   ],
   "source": [
    "df.index[0]"
   ]
  },
  {
   "cell_type": "code",
   "execution_count": 15,
   "id": "3eb3ca2a-0d81-486f-9cb0-57228718f317",
   "metadata": {},
   "outputs": [
    {
     "data": {
      "text/plain": [
       "Timestamp('2021-12-23 15:05:25.721522+0000', tz='UTC')"
      ]
     },
     "execution_count": 15,
     "metadata": {},
     "output_type": "execute_result"
    }
   ],
   "source": [
    "df.index[-1]"
   ]
  },
  {
   "cell_type": "code",
   "execution_count": 17,
   "id": "da363fcf-8434-472d-aad2-0d7ad33a5c30",
   "metadata": {},
   "outputs": [
    {
     "data": {
      "text/plain": [
       "2020"
      ]
     },
     "execution_count": 17,
     "metadata": {},
     "output_type": "execute_result"
    }
   ],
   "source": [
    "df.index[0].year"
   ]
  },
  {
   "cell_type": "code",
   "execution_count": 18,
   "id": "6d97adf2-2fea-4e8f-8eb0-3169238c721e",
   "metadata": {},
   "outputs": [
    {
     "data": {
      "text/plain": [
       "'2020-12-12'"
      ]
     },
     "execution_count": 18,
     "metadata": {},
     "output_type": "execute_result"
    }
   ],
   "source": [
    "df.index[0].strftime('%Y-%m-%d')"
   ]
  }
 ],
 "metadata": {
  "kernelspec": {
   "display_name": "Python 3 (ipykernel)",
   "language": "python",
   "name": "python3"
  },
  "language_info": {
   "codemirror_mode": {
    "name": "ipython",
    "version": 3
   },
   "file_extension": ".py",
   "mimetype": "text/x-python",
   "name": "python",
   "nbconvert_exporter": "python",
   "pygments_lexer": "ipython3",
   "version": "3.9.0"
  }
 },
 "nbformat": 4,
 "nbformat_minor": 5
}
